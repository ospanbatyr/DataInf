{
 "cells": [
  {
   "cell_type": "code",
   "execution_count": 6,
   "id": "49df7f38-c736-483e-b150-649f135df63d",
   "metadata": {},
   "outputs": [],
   "source": [
    "from datasets import load_from_disk"
   ]
  },
  {
   "cell_type": "code",
   "execution_count": 7,
   "id": "f608a2aa-71f7-4625-b6da-fd6357406bf3",
   "metadata": {},
   "outputs": [],
   "source": [
    "dataset = load_from_disk(\"../datasets/math_without_reason_train.hf\")"
   ]
  },
  {
   "cell_type": "code",
   "execution_count": 8,
   "id": "7ddb0ca4-6458-4804-a78b-e90308d457b8",
   "metadata": {},
   "outputs": [
    {
     "data": {
      "text/plain": [
       "Dataset({\n",
       "    features: ['prompt', 'text', 'answer', 'variation'],\n",
       "    num_rows: 900\n",
       "})"
      ]
     },
     "execution_count": 8,
     "metadata": {},
     "output_type": "execute_result"
    }
   ],
   "source": [
    "dataset"
   ]
  },
  {
   "cell_type": "code",
   "execution_count": 9,
   "id": "b65a9235-e2d0-458c-a782-0386cd8833f5",
   "metadata": {},
   "outputs": [
    {
     "data": {
      "text/plain": [
       "{'prompt': 'Solve the following math problem. Lisa ate 91 slices of pizza and her brother ate 61 slices from a pizza that originally had 59 slices. How many slices of the pizza are left? -> ',\n",
       " 'text': 'Solve the following math problem. Lisa ate 91 slices of pizza and her brother ate 61 slices from a pizza that originally had 59 slices. How many slices of the pizza are left? -> Answer: -93</s>',\n",
       " 'answer': -93,\n",
       " 'variation': 'pizza_slices'}"
      ]
     },
     "execution_count": 9,
     "metadata": {},
     "output_type": "execute_result"
    }
   ],
   "source": [
    "dataset[0]"
   ]
  },
  {
   "cell_type": "code",
   "execution_count": null,
   "id": "e65c265f-bbe8-4dee-8f7b-2413a07f363d",
   "metadata": {},
   "outputs": [],
   "source": []
  }
 ],
 "metadata": {
  "kernelspec": {
   "display_name": "Python 3 (ipykernel)",
   "language": "python",
   "name": "python3"
  },
  "language_info": {
   "codemirror_mode": {
    "name": "ipython",
    "version": 3
   },
   "file_extension": ".py",
   "mimetype": "text/x-python",
   "name": "python",
   "nbconvert_exporter": "python",
   "pygments_lexer": "ipython3",
   "version": "3.10.13"
  }
 },
 "nbformat": 4,
 "nbformat_minor": 5
}
