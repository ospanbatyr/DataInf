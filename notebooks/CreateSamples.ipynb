{
 "cells": [
  {
   "cell_type": "code",
   "execution_count": 1,
   "metadata": {},
   "outputs": [
    {
     "name": "stderr",
     "output_type": "stream",
     "text": [
      "/kuacc/users/oince22/.conda/envs/datainf/lib/python3.10/site-packages/tqdm/auto.py:21: TqdmWarning: IProgress not found. Please update jupyter and ipywidgets. See https://ipywidgets.readthedocs.io/en/stable/user_install.html\n",
      "  from .autonotebook import tqdm as notebook_tqdm\n"
     ]
    }
   ],
   "source": [
    "from datasets import Dataset, load_dataset, concatenate_datasets\n",
    "import os\n",
    "import json"
   ]
  },
  {
   "cell_type": "code",
   "execution_count": 5,
   "metadata": {},
   "outputs": [],
   "source": [
    "def _process_doc(doc):\n",
    "        return {\n",
    "            \"query\": doc[\"question\"] + \"\\n\" + \\\n",
    "                    \"\".join([f\" ({k}) {v}\" if i else f\"({k}) {v}\" \\\n",
    "                    for i, (k, v) in enumerate(doc[\"options\"].items())]),\n",
    "            \"choices\": list(doc[\"options\"].values()),\n",
    "            \"gold\": ord(doc[\"answer_idx\"])-ord(\"A\"),\n",
    "        }\n",
    "\n",
    "def doc_to_text(doc):\n",
    "    doc = _process_doc(doc)\n",
    "    doc[\"prompt\"] =  f\"Question: {doc['query']}\\nAnswer:\"\n",
    "    return doc"
   ]
  },
  {
   "cell_type": "code",
   "execution_count": 6,
   "metadata": {},
   "outputs": [],
   "source": [
    "dataset_ = load_dataset(\"augtoma/medqa_usmle\", split=\"test\")"
   ]
  },
  {
   "cell_type": "code",
   "execution_count": 7,
   "metadata": {},
   "outputs": [],
   "source": [
    "dataset_ = dataset_.map(doc_to_text)"
   ]
  },
  {
   "cell_type": "code",
   "execution_count": 8,
   "metadata": {},
   "outputs": [
    {
     "data": {
      "text/plain": [
       "{'question': 'A junior orthopaedic surgery resident is completing a carpal tunnel repair with the department chairman as the attending physician. During the case, the resident inadvertently cuts a flexor tendon. The tendon is repaired without complication. The attending tells the resident that the patient will do fine, and there is no need to report this minor complication that will not harm the patient, as he does not want to make the patient worry unnecessarily. He tells the resident to leave this complication out of the operative report. Which of the following is the correct next action for the resident to take?',\n",
       " 'answer': 'Tell the attending that he cannot fail to disclose this mistake',\n",
       " 'options': {'A': 'Disclose the error to the patient and put it in the operative report',\n",
       "  'B': 'Tell the attending that he cannot fail to disclose this mistake',\n",
       "  'C': 'Report the physician to the ethics committee',\n",
       "  'D': 'Refuse to dictate the operative report'},\n",
       " 'meta_info': 'step1',\n",
       " 'answer_idx': 'B',\n",
       " 'metamap_phrases': ['junior orthopaedic surgery resident',\n",
       "  'completing',\n",
       "  'carpal tunnel repair',\n",
       "  'department chairman',\n",
       "  'attending physician',\n",
       "  'case',\n",
       "  'resident',\n",
       "  'cuts',\n",
       "  'flexor tendon',\n",
       "  'tendon',\n",
       "  'repaired',\n",
       "  'complication',\n",
       "  'attending',\n",
       "  'resident',\n",
       "  'patient',\n",
       "  'fine',\n",
       "  'need to report',\n",
       "  'minor complication',\n",
       "  'not',\n",
       "  'patient',\n",
       "  'not',\n",
       "  'to make',\n",
       "  'patient worry',\n",
       "  'resident to leave',\n",
       "  'complication out',\n",
       "  'operative report',\n",
       "  'following',\n",
       "  'correct next action',\n",
       "  'resident to take'],\n",
       " 'query': 'A junior orthopaedic surgery resident is completing a carpal tunnel repair with the department chairman as the attending physician. During the case, the resident inadvertently cuts a flexor tendon. The tendon is repaired without complication. The attending tells the resident that the patient will do fine, and there is no need to report this minor complication that will not harm the patient, as he does not want to make the patient worry unnecessarily. He tells the resident to leave this complication out of the operative report. Which of the following is the correct next action for the resident to take?\\n(A) Disclose the error to the patient and put it in the operative report (B) Tell the attending that he cannot fail to disclose this mistake (C) Report the physician to the ethics committee (D) Refuse to dictate the operative report',\n",
       " 'choices': ['Disclose the error to the patient and put it in the operative report',\n",
       "  'Tell the attending that he cannot fail to disclose this mistake',\n",
       "  'Report the physician to the ethics committee',\n",
       "  'Refuse to dictate the operative report'],\n",
       " 'gold': 1,\n",
       " 'prompt': 'Question: A junior orthopaedic surgery resident is completing a carpal tunnel repair with the department chairman as the attending physician. During the case, the resident inadvertently cuts a flexor tendon. The tendon is repaired without complication. The attending tells the resident that the patient will do fine, and there is no need to report this minor complication that will not harm the patient, as he does not want to make the patient worry unnecessarily. He tells the resident to leave this complication out of the operative report. Which of the following is the correct next action for the resident to take?\\n(A) Disclose the error to the patient and put it in the operative report (B) Tell the attending that he cannot fail to disclose this mistake (C) Report the physician to the ethics committee (D) Refuse to dictate the operative report\\nAnswer:'}"
      ]
     },
     "execution_count": 8,
     "metadata": {},
     "output_type": "execute_result"
    }
   ],
   "source": [
    "dataset_[0]"
   ]
  },
  {
   "cell_type": "code",
   "execution_count": 9,
   "metadata": {},
   "outputs": [
    {
     "name": "stderr",
     "output_type": "stream",
     "text": [
      "Creating json from Arrow format: 100%|██████████| 2/2 [00:00<00:00, 12.42ba/s]\n"
     ]
    },
    {
     "data": {
      "text/plain": [
       "4503397"
      ]
     },
     "execution_count": 9,
     "metadata": {},
     "output_type": "execute_result"
    }
   ],
   "source": [
    "dataset_.to_json(\"datasets/medical_datasets/medqa_usmle.json\")"
   ]
  },
  {
   "cell_type": "code",
   "execution_count": 11,
   "metadata": {},
   "outputs": [
    {
     "name": "stderr",
     "output_type": "stream",
     "text": [
      "Generating train split: 5452 examples [00:00, 34424.15 examples/s]\n"
     ]
    }
   ],
   "source": [
    "project_path = os.path.abspath(os.path.join(os.getcwd(), os.pardir))\n",
    "pretrain_dataset = Dataset.from_json(f\"{project_path}/datasets/medical_datasets/GenMedGPT-5k.json\")\n",
    "with open(\"../datasets/medical_datasets/medmcqa-instruction-train.json\", \"r\") as f:\n",
    "    ft_dataset = json.load(f)"
   ]
  },
  {
   "cell_type": "code",
   "execution_count": 12,
   "metadata": {},
   "outputs": [],
   "source": [
    "n_samples = 200\n",
    "n_samples = min(n_samples, len(pretrain_dataset))\n",
    "pretrain_dataset = pretrain_dataset.select(range(n_samples))\n",
    "n_samples = min(n_samples, len(ft_dataset))\n",
    "ft_dataset = ft_dataset[:n_samples]\n"
   ]
  },
  {
   "cell_type": "code",
   "execution_count": 13,
   "metadata": {},
   "outputs": [
    {
     "data": {
      "text/plain": [
       "Dataset({\n",
       "    features: ['instruction', 'input', 'output'],\n",
       "    num_rows: 200\n",
       "})"
      ]
     },
     "execution_count": 13,
     "metadata": {},
     "output_type": "execute_result"
    }
   ],
   "source": [
    "# Prepare data for Dataset.from_dict\n",
    "data_columns = {key: [] for key in ft_dataset[0].keys()}\n",
    "for item in ft_dataset:\n",
    "    for key, value in item.items():\n",
    "        data_columns[key].append(value)\n",
    "ft_dataset = Dataset.from_dict(data_columns)\n",
    "ft_dataset"
   ]
  },
  {
   "cell_type": "code",
   "execution_count": 14,
   "metadata": {},
   "outputs": [
    {
     "data": {
      "text/plain": [
       "Dataset({\n",
       "    features: ['input', 'instruction', 'output'],\n",
       "    num_rows: 400\n",
       "})"
      ]
     },
     "execution_count": 14,
     "metadata": {},
     "output_type": "execute_result"
    }
   ],
   "source": [
    "merged_dataset = concatenate_datasets([pretrain_dataset, ft_dataset])\n",
    "merged_dataset"
   ]
  },
  {
   "cell_type": "code",
   "execution_count": 15,
   "metadata": {},
   "outputs": [
    {
     "name": "stderr",
     "output_type": "stream",
     "text": [
      "Creating json from Arrow format: 100%|██████████| 1/1 [00:00<00:00, 135.08ba/s]\n"
     ]
    },
    {
     "data": {
      "text/plain": [
       "263091"
      ]
     },
     "execution_count": 15,
     "metadata": {},
     "output_type": "execute_result"
    }
   ],
   "source": [
    "merged_dataset.to_json(os.path.join(project_path, f\"datasets/medical_datasets/gpt_medmcqa.json\"))"
   ]
  },
  {
   "cell_type": "code",
   "execution_count": null,
   "metadata": {},
   "outputs": [],
   "source": []
  }
 ],
 "metadata": {
  "kernelspec": {
   "display_name": "Python 3 (ipykernel)",
   "language": "python",
   "name": "python3"
  },
  "language_info": {
   "codemirror_mode": {
    "name": "ipython",
    "version": 3
   },
   "file_extension": ".py",
   "mimetype": "text/x-python",
   "name": "python",
   "nbconvert_exporter": "python",
   "pygments_lexer": "ipython3",
   "version": "3.10.13"
  },
  "vscode": {
   "interpreter": {
    "hash": "e862f3ac8319dd3b2592f1ab73da6eb8c049bb2949a2081c55d9c34cd04f6fab"
   }
  }
 },
 "nbformat": 4,
 "nbformat_minor": 4
}
