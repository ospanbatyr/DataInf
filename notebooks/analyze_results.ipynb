{
 "cells": [
  {
   "cell_type": "code",
   "execution_count": 39,
   "metadata": {},
   "outputs": [],
   "source": [
    "import matplotlib.pyplot as plt\n",
    "from collections import Counter\n",
    "from datasets import Dataset\n",
    "import pandas as pd\n",
    "import numpy as np\n",
    "import json"
   ]
  },
  {
   "cell_type": "code",
   "execution_count": 2,
   "metadata": {},
   "outputs": [
    {
     "name": "stderr",
     "output_type": "stream",
     "text": [
      "Generating train split: 100 examples [00:00, 2590.40 examples/s]\n"
     ]
    }
   ],
   "source": [
    "ds = Dataset.from_json(\"../src/influential_samples_top5.json\")"
   ]
  },
  {
   "cell_type": "code",
   "execution_count": 3,
   "metadata": {},
   "outputs": [
    {
     "data": {
      "text/plain": [
       "Dataset({\n",
       "    features: ['Validation Sample', 'Most Influential Training Samples', 'Least Influential Training Samples'],\n",
       "    num_rows: 100\n",
       "})"
      ]
     },
     "execution_count": 3,
     "metadata": {},
     "output_type": "execute_result"
    }
   ],
   "source": [
    "ds"
   ]
  },
  {
   "cell_type": "code",
   "execution_count": 4,
   "metadata": {},
   "outputs": [
    {
     "data": {
      "text/plain": [
       "['', '', '', '', '']"
      ]
     },
     "execution_count": 4,
     "metadata": {},
     "output_type": "execute_result"
    }
   ],
   "source": [
    "ds[1]['Least Influential Training Samples'][\"input\"]"
   ]
  },
  {
   "cell_type": "code",
   "execution_count": 5,
   "metadata": {},
   "outputs": [],
   "source": [
    "data = []\n",
    "for d in ds:\n",
    "    dict_ = {}\n",
    "    dict_[\"Validation Sample\"] = d[\"Validation Sample\"][\"prompt\"]\n",
    "    dict_[\"top_influencing\"] = [instr + \"\\n\" + input_ for instr, input_ in zip(d['Most Influential Training Samples'][\"instruction\"], d['Most Influential Training Samples'][\"input\"])]\n",
    "    dict_[\"top_influencing_sources\"] = [\"medqa\" if len(input_) else \"open-platypus\" for input_ in d['Most Influential Training Samples'][\"input\"]]\n",
    "    dict_[\"least_influencing\"] = [instr + \"\\n\" + input_ for instr, input_ in zip(d['Least Influential Training Samples'][\"instruction\"], d['Least Influential Training Samples'][\"input\"])]\n",
    "    dict_[\"least_influencing_sources\"] = [\"medqa\" if len(input_) else \"open-platypus\" for input_ in d['Least Influential Training Samples'][\"input\"]]\n",
    "    data.append(dict_)\n",
    "\n"
   ]
  },
  {
   "cell_type": "code",
   "execution_count": 6,
   "metadata": {},
   "outputs": [
    {
     "data": {
      "text/html": [
       "<div>\n",
       "<style scoped>\n",
       "    .dataframe tbody tr th:only-of-type {\n",
       "        vertical-align: middle;\n",
       "    }\n",
       "\n",
       "    .dataframe tbody tr th {\n",
       "        vertical-align: top;\n",
       "    }\n",
       "\n",
       "    .dataframe thead th {\n",
       "        text-align: right;\n",
       "    }\n",
       "</style>\n",
       "<table border=\"1\" class=\"dataframe\">\n",
       "  <thead>\n",
       "    <tr style=\"text-align: right;\">\n",
       "      <th></th>\n",
       "      <th>Validation Sample</th>\n",
       "      <th>top_influencing</th>\n",
       "      <th>top_influencing_sources</th>\n",
       "      <th>least_influencing</th>\n",
       "      <th>least_influencing_sources</th>\n",
       "    </tr>\n",
       "  </thead>\n",
       "  <tbody>\n",
       "    <tr>\n",
       "      <th>0</th>\n",
       "      <td>Question: A 6-year-old African American boy is...</td>\n",
       "      <td>[What is quantum physics?\\n, Find $\\cot 90^\\ci...</td>\n",
       "      <td>[open-platypus, open-platypus, open-platypus, ...</td>\n",
       "      <td>[BEGININPUT\\nBEGINCONTEXT\\ndate: June 14, 2022...</td>\n",
       "      <td>[open-platypus, open-platypus, open-platypus, ...</td>\n",
       "    </tr>\n",
       "    <tr>\n",
       "      <th>1</th>\n",
       "      <td>Question: A 28-year-old male presents with a r...</td>\n",
       "      <td>[What is quantum physics?\\n, Find $\\cot 90^\\ci...</td>\n",
       "      <td>[open-platypus, open-platypus, open-platypus, ...</td>\n",
       "      <td>[BEGININPUT\\nBEGINCONTEXT\\ndate: June 14, 2022...</td>\n",
       "      <td>[open-platypus, open-platypus, open-platypus, ...</td>\n",
       "    </tr>\n",
       "    <tr>\n",
       "      <th>2</th>\n",
       "      <td>Question: A 66-year-old woman presents with ur...</td>\n",
       "      <td>[What is quantum physics?\\n, Compute $\\cos 135...</td>\n",
       "      <td>[open-platypus, open-platypus, open-platypus, ...</td>\n",
       "      <td>[BEGININPUT\\nBEGINCONTEXT\\ndate: June 14, 2022...</td>\n",
       "      <td>[open-platypus, open-platypus, open-platypus, ...</td>\n",
       "    </tr>\n",
       "    <tr>\n",
       "      <th>3</th>\n",
       "      <td>Question: A 45-year-old woman presents with su...</td>\n",
       "      <td>[What is quantum physics?\\n, Find $\\cot 90^\\ci...</td>\n",
       "      <td>[open-platypus, open-platypus, open-platypus, ...</td>\n",
       "      <td>[BEGININPUT\\nBEGINCONTEXT\\ndate: June 15, 2021...</td>\n",
       "      <td>[open-platypus, open-platypus, open-platypus, ...</td>\n",
       "    </tr>\n",
       "    <tr>\n",
       "      <th>4</th>\n",
       "      <td>Question: A 4-week-old female newborn is broug...</td>\n",
       "      <td>[You are a medical doctor taking the US Medica...</td>\n",
       "      <td>[medqa, open-platypus, open-platypus, open-pla...</td>\n",
       "      <td>[BEGININPUT\\nBEGINCONTEXT\\ndate: June 15, 2021...</td>\n",
       "      <td>[open-platypus, open-platypus, open-platypus, ...</td>\n",
       "    </tr>\n",
       "    <tr>\n",
       "      <th>...</th>\n",
       "      <td>...</td>\n",
       "      <td>...</td>\n",
       "      <td>...</td>\n",
       "      <td>...</td>\n",
       "      <td>...</td>\n",
       "    </tr>\n",
       "    <tr>\n",
       "      <th>95</th>\n",
       "      <td>Question: A 10-year-old boy is brought to the ...</td>\n",
       "      <td>[What is quantum physics?\\n, Find $\\cot 90^\\ci...</td>\n",
       "      <td>[open-platypus, open-platypus, open-platypus, ...</td>\n",
       "      <td>[BEGININPUT\\nBEGINCONTEXT\\ndate: June 14, 2022...</td>\n",
       "      <td>[open-platypus, open-platypus, open-platypus, ...</td>\n",
       "    </tr>\n",
       "    <tr>\n",
       "      <th>96</th>\n",
       "      <td>Question: A 32-year-old woman presents to the ...</td>\n",
       "      <td>[What is quantum physics?\\n, Find $\\cot 90^\\ci...</td>\n",
       "      <td>[open-platypus, open-platypus, open-platypus, ...</td>\n",
       "      <td>[BEGININPUT\\nBEGINCONTEXT\\ndate: June 15, 2021...</td>\n",
       "      <td>[open-platypus, open-platypus, open-platypus, ...</td>\n",
       "    </tr>\n",
       "    <tr>\n",
       "      <th>97</th>\n",
       "      <td>Question: A 24-year-old man, who recently migr...</td>\n",
       "      <td>[Does this passage describe the weather or the...</td>\n",
       "      <td>[open-platypus, open-platypus, open-platypus, ...</td>\n",
       "      <td>[BEGININPUT\\nBEGINCONTEXT\\ndate: June 14, 2022...</td>\n",
       "      <td>[open-platypus, open-platypus, open-platypus, ...</td>\n",
       "    </tr>\n",
       "    <tr>\n",
       "      <th>98</th>\n",
       "      <td>Question: A healthy 23-year-old male is underg...</td>\n",
       "      <td>[What is quantum physics?\\n, Find $\\cot 90^\\ci...</td>\n",
       "      <td>[open-platypus, open-platypus, open-platypus, ...</td>\n",
       "      <td>[BEGININPUT\\nBEGINCONTEXT\\ndate: June 15, 2021...</td>\n",
       "      <td>[open-platypus, open-platypus, open-platypus, ...</td>\n",
       "    </tr>\n",
       "    <tr>\n",
       "      <th>99</th>\n",
       "      <td>Question: A 61-year-old man presents to the cl...</td>\n",
       "      <td>[BEGININPUT\\nBEGINCONTEXT\\ndate: June 15, 2021...</td>\n",
       "      <td>[open-platypus, open-platypus, open-platypus, ...</td>\n",
       "      <td>[You are a medical doctor taking the US Medica...</td>\n",
       "      <td>[medqa, medqa, medqa, medqa, medqa]</td>\n",
       "    </tr>\n",
       "  </tbody>\n",
       "</table>\n",
       "<p>100 rows × 5 columns</p>\n",
       "</div>"
      ],
      "text/plain": [
       "                                    Validation Sample  \\\n",
       "0   Question: A 6-year-old African American boy is...   \n",
       "1   Question: A 28-year-old male presents with a r...   \n",
       "2   Question: A 66-year-old woman presents with ur...   \n",
       "3   Question: A 45-year-old woman presents with su...   \n",
       "4   Question: A 4-week-old female newborn is broug...   \n",
       "..                                                ...   \n",
       "95  Question: A 10-year-old boy is brought to the ...   \n",
       "96  Question: A 32-year-old woman presents to the ...   \n",
       "97  Question: A 24-year-old man, who recently migr...   \n",
       "98  Question: A healthy 23-year-old male is underg...   \n",
       "99  Question: A 61-year-old man presents to the cl...   \n",
       "\n",
       "                                      top_influencing  \\\n",
       "0   [What is quantum physics?\\n, Find $\\cot 90^\\ci...   \n",
       "1   [What is quantum physics?\\n, Find $\\cot 90^\\ci...   \n",
       "2   [What is quantum physics?\\n, Compute $\\cos 135...   \n",
       "3   [What is quantum physics?\\n, Find $\\cot 90^\\ci...   \n",
       "4   [You are a medical doctor taking the US Medica...   \n",
       "..                                                ...   \n",
       "95  [What is quantum physics?\\n, Find $\\cot 90^\\ci...   \n",
       "96  [What is quantum physics?\\n, Find $\\cot 90^\\ci...   \n",
       "97  [Does this passage describe the weather or the...   \n",
       "98  [What is quantum physics?\\n, Find $\\cot 90^\\ci...   \n",
       "99  [BEGININPUT\\nBEGINCONTEXT\\ndate: June 15, 2021...   \n",
       "\n",
       "                              top_influencing_sources  \\\n",
       "0   [open-platypus, open-platypus, open-platypus, ...   \n",
       "1   [open-platypus, open-platypus, open-platypus, ...   \n",
       "2   [open-platypus, open-platypus, open-platypus, ...   \n",
       "3   [open-platypus, open-platypus, open-platypus, ...   \n",
       "4   [medqa, open-platypus, open-platypus, open-pla...   \n",
       "..                                                ...   \n",
       "95  [open-platypus, open-platypus, open-platypus, ...   \n",
       "96  [open-platypus, open-platypus, open-platypus, ...   \n",
       "97  [open-platypus, open-platypus, open-platypus, ...   \n",
       "98  [open-platypus, open-platypus, open-platypus, ...   \n",
       "99  [open-platypus, open-platypus, open-platypus, ...   \n",
       "\n",
       "                                    least_influencing  \\\n",
       "0   [BEGININPUT\\nBEGINCONTEXT\\ndate: June 14, 2022...   \n",
       "1   [BEGININPUT\\nBEGINCONTEXT\\ndate: June 14, 2022...   \n",
       "2   [BEGININPUT\\nBEGINCONTEXT\\ndate: June 14, 2022...   \n",
       "3   [BEGININPUT\\nBEGINCONTEXT\\ndate: June 15, 2021...   \n",
       "4   [BEGININPUT\\nBEGINCONTEXT\\ndate: June 15, 2021...   \n",
       "..                                                ...   \n",
       "95  [BEGININPUT\\nBEGINCONTEXT\\ndate: June 14, 2022...   \n",
       "96  [BEGININPUT\\nBEGINCONTEXT\\ndate: June 15, 2021...   \n",
       "97  [BEGININPUT\\nBEGINCONTEXT\\ndate: June 14, 2022...   \n",
       "98  [BEGININPUT\\nBEGINCONTEXT\\ndate: June 15, 2021...   \n",
       "99  [You are a medical doctor taking the US Medica...   \n",
       "\n",
       "                            least_influencing_sources  \n",
       "0   [open-platypus, open-platypus, open-platypus, ...  \n",
       "1   [open-platypus, open-platypus, open-platypus, ...  \n",
       "2   [open-platypus, open-platypus, open-platypus, ...  \n",
       "3   [open-platypus, open-platypus, open-platypus, ...  \n",
       "4   [open-platypus, open-platypus, open-platypus, ...  \n",
       "..                                                ...  \n",
       "95  [open-platypus, open-platypus, open-platypus, ...  \n",
       "96  [open-platypus, open-platypus, open-platypus, ...  \n",
       "97  [open-platypus, open-platypus, open-platypus, ...  \n",
       "98  [open-platypus, open-platypus, open-platypus, ...  \n",
       "99                [medqa, medqa, medqa, medqa, medqa]  \n",
       "\n",
       "[100 rows x 5 columns]"
      ]
     },
     "execution_count": 6,
     "metadata": {},
     "output_type": "execute_result"
    }
   ],
   "source": [
    "df = pd.DataFrame(data)\n",
    "df"
   ]
  },
  {
   "cell_type": "code",
   "execution_count": 33,
   "metadata": {},
   "outputs": [],
   "source": [
    "def plot(tokens_lists, title=\"Distribution of Tokenized Input IDs Lengths\"):\n",
    "    # Determine the min and max lengths\n",
    "    min_length = min(tokens_lists)\n",
    "    max_length = max(tokens_lists)\n",
    "\n",
    "    # Choose a bin width or determine the number of bins\n",
    "    # Here, we choose a bin width that gives a readable histogram\n",
    "    bin_width = (max_length - min_length) // 20  # Adjust this to change the granularity of the histogram\n",
    "\n",
    "    # Create bins from min to max length with the chosen bin width\n",
    "    bins = range(min_length, max_length + bin_width, bin_width)\n",
    "\n",
    "    # Plotting the histogram with specified bins\n",
    "    plt.figure(figsize=(10, 6))\n",
    "    plt.hist(tokens_lists, bins=bins, color='skyblue', edgecolor='black')\n",
    "    plt.title(title)\n",
    "    plt.xlabel('Length of Tokenized Input IDs')\n",
    "    plt.ylabel('Frequency')\n",
    "    plt.xticks(bins)  # Adjust x-axis labels to match the bins for readability\n",
    "    plt.grid(axis='y', alpha=0.75)\n",
    "\n",
    "    plt.show()\n"
   ]
  },
  {
   "cell_type": "code",
   "execution_count": 34,
   "metadata": {},
   "outputs": [],
   "source": [
    "from transformers import AutoTokenizer\n",
    "tokenizer = AutoTokenizer.from_pretrained(\"mistralai/Mistral-7B-v0.1\")"
   ]
  },
  {
   "cell_type": "code",
   "execution_count": 35,
   "metadata": {},
   "outputs": [],
   "source": [
    "top_sentences = df[\"top_influencing\"].values\n",
    "top_sentences = sum(top_sentences, [])\n",
    "top_sentences_tokenized = tokenizer(top_sentences)[\"input_ids\"]\n",
    "top_sentences_tokenized_len = [len(sample) for sample in top_sentences_tokenized]\n",
    "\n",
    "\n",
    "least_sentences = df[\"least_influencing\"].values\n",
    "least_sentences = sum(least_sentences, [])\n",
    "least_sentences_tokenized = tokenizer(least_sentences)[\"input_ids\"]\n",
    "least_sentences_tokenized_len = [len(sample) for sample in least_sentences_tokenized]\n"
   ]
  },
  {
   "cell_type": "code",
   "execution_count": 36,
   "metadata": {},
   "outputs": [
    {
     "data": {
      "image/png": "[encoded data removed]",
      "text/plain": [
       "<Figure size 1000x600 with 1 Axes>"
      ]
     },
     "metadata": {},
     "output_type": "display_data"
    }
   ],
   "source": [
    "plot(top_sentences_tokenized_len, title = \"Distribution of Tokenized Input IDs of Top Influencing examples\")"
   ]
  },
  {
   "cell_type": "code",
   "execution_count": 37,
   "metadata": {},
   "outputs": [
    {
     "data": {
      "image/png": "[encoded data removed]",
      "text/plain": [
       "<Figure size 1000x600 with 1 Axes>"
      ]
     },
     "metadata": {},
     "output_type": "display_data"
    }
   ],
   "source": [
    "plot(least_sentences_tokenized_len, title = \"Distribution of Tokenized Input IDs of Least Influencing examples\")"
   ]
  },
  {
   "cell_type": "code",
   "execution_count": 42,
   "metadata": {},
   "outputs": [
    {
     "name": "stdout",
     "output_type": "stream",
     "text": [
      "99 : What is quantum physics?\n",
      "\n",
      "99 : Find $\\cot 90^\\circ.$\n",
      "\n",
      "98 : Compute $\\cos 135^\\circ$.\n",
      "\n",
      "95 : In how many ways can I arrange four different books on a shelf?\n",
      "\n",
      "88 : How many of the positive divisors of 252 are even?\n",
      "\n",
      "11 : Compute $\\arcsin 0.$  Express your answer in radians.\n",
      "\n",
      "1 : You are a medical doctor taking the US Medical Licensing Examination. You need to demonstrate your understanding of basic and clinical science, medical knowledge, and mechanisms underlying health, disease, patient care, and modes of therapy. Show your ability to apply the knowledge essential for medical practice. For the following multiple-choice question, select one correct answer from A to E.\n",
      "Question: Three days after undergoing coronary artery bypass surgery, a 72-year-old man has severe rig\n",
      "1 : You are a medical doctor taking the US Medical Licensing Examination. You need to demonstrate your understanding of basic and clinical science, medical knowledge, and mechanisms underlying health, disease, patient care, and modes of therapy. Show your ability to apply the knowledge essential for medical practice. For the following multiple-choice question, select one correct answer from A to E.\n",
      "Question: A 60-year-old white man with a past medical history significant for hypertension and hyperli\n",
      "1 : Does this passage describe the weather or the climate?\n",
      "Peter lives in a windy place.\n",
      "A: climate\n",
      "B: weather\n",
      "\n",
      "1 : Which is the most flexible?\n",
      "A: ice rink\n",
      "B: silk necktie\n",
      "C: glass marbles\n",
      "\n",
      "1 : Complete the statement. Assume that the car's mass did not change.\n",
      "The gravitational potential energy stored between the car and Earth () as the car slowed to a stop.\n",
      "A: decreased\n",
      "B: stayed the same\n",
      "C: increased\n",
      "\n",
      "1 : BEGININPUT\n",
      "BEGINCONTEXT\n",
      "date: June 15, 2021\n",
      "author: Emily Hawthorne\n",
      "title: Baking: Science and Art Combined - The Tale of a Master Baker\n",
      "category: Fictional Short Story\n",
      "ENDCONTEXT\n",
      "Once upon a time in the quaint village of Sunnyside, there lived a master baker named Charles Montgomery. Born on February 29, 1960, Charles was known far and wide for his extraordinary baking skills. He had been passionate about baking since he was a young boy, learning from his grandmother who owned a small bakery.\n",
      "\n",
      "\n",
      "1 : BEGININPUT\n",
      "BEGINCONTEXT\n",
      "date: June 14, 2022\n",
      "author: Lila Thompson\n",
      "title: The Case of the Vanishing Artist\n",
      "genre: Fictional Short Story\n",
      "category: Forensic Science and Criminal Investigations\n",
      "ENDCONTEXT\n",
      "Detective Jameson stood in the dimly lit studio, surrounded by half-finished paintings and scattered art supplies. He was called to investigate the disappearance of a renowned artist named Amelia Hartman. Her husband had reported her missing after she failed to return home from her studio two night\n",
      "1 : BEGININPUT\n",
      "BEGINCONTEXT\n",
      "date: October 12, 2019\n",
      "author: Dr. Amelia Thompson\n",
      "title: The Impact of Telecommunication Evolution on Healthcare\n",
      "journal: International Journal of Medical Innovations\n",
      "volume: 17\n",
      "issue: 4\n",
      "pages: 342-356\n",
      "ENDCONTEXT\n",
      "The evolution of telecommunication has had a significant impact on various aspects of human life, including healthcare. From the invention of the telephone in 1876 by Alexander Graham Bell to the development of the internet in the late 20th century, communicatio\n",
      "1 : BEGININPUT\n",
      "BEGINCONTEXT\n",
      "date: June 15, 2023\n",
      "author: Dr. Jane Smith\n",
      "repository: https://github.com/humangenomeproject/analysis-tools\n",
      "merge_request_title: \"Add new feature for analyzing gene interactions\"\n",
      "merge_request_number: 42\n",
      "reviewers: Dr. John Doe, Dr. Alice Brown\n",
      "ENDCONTEXT\n",
      "In this merge request, I propose the addition of a new feature to our analysis tools that will help researchers better understand the complex interactions between genes in the human genome. This feature builds upon exist\n",
      "1 : Given a list of `words`, list of single `letters` (might be repeating) and `score` of every character.\n",
      "\n",
      "Return the maximum score of **any** valid set of words formed by using the given letters (`words[i]` cannot be used two or more times).\n",
      "\n",
      "It is not necessary to use all characters in `letters` and each letter can only be used once. Score of letters `'a'`, `'b'`, `'c'`, ... ,`'z'` is given by `score[0]`, `score[1]`, ... , `score[25]` respectively.\n",
      "\n",
      "**Example 1:**\n",
      "\n",
      "**Input:** words = \\[ \"dog \", \"\n"
     ]
    }
   ],
   "source": [
    "text_counts = Counter(top_sentences)\n",
    "for text, count in text_counts.items():\n",
    "    print(f\"{count} : {text[:500]}\")"
   ]
  },
  {
   "cell_type": "code",
   "execution_count": 44,
   "metadata": {},
   "outputs": [
    {
     "name": "stdout",
     "output_type": "stream",
     "text": [
      "99 : BEGININPUT\n",
      "BEGINCONTEXT\n",
      "date: June 14, 2022\n",
      "author: Lila Thompson\n",
      "title: The Case of the Vanishing A ....\n",
      "99 : BEGININPUT\n",
      "BEGINCONTEXT\n",
      "date: June 15, 2021\n",
      "author: Emily Hawthorne\n",
      "title: Baking: Science and Art C ....\n",
      "95 : Given a list of `words`, list of single `letters` (might be repeating) and `score` of every characte ....\n",
      "80 : BEGININPUT\n",
      "BEGINCONTEXT\n",
      "date: June 15, 2023\n",
      "author: Dr. Jane Smith\n",
      "repository: https://github.com/hu ....\n",
      "72 : You are given two positive integer arrays `nums1` and `nums2`, both of length `n`.\n",
      "\n",
      "The **absolute s ....\n",
      "44 : BEGININPUT\n",
      "BEGINCONTEXT\n",
      "date: October 12, 2019\n",
      "author: Dr. Amelia Thompson\n",
      "title: The Impact of Tele ....\n",
      "3 : BEGININPUT\n",
      "BEGINCONTEXT\n",
      "date: September 15, 2023\n",
      "author: Dr. Jane Smith\n",
      "url: https://www.nutrition-s ....\n",
      "1 : You are a medical doctor taking the US Medical Licensing Examination. You need to demonstrate your u ....\n",
      "1 : What is the average student headcount for the spring terms of the `02-`03, `03-`04 and `04-`05 acade ....\n",
      "1 : In the recently enacted Fair Opportunity Act, the United States Congress provided, among other thing ....\n",
      "1 : You are a medical doctor taking the US Medical Licensing Examination. You need to demonstrate your u ....\n",
      "1 : Cultural historian: Universal acceptance of scientific theories that regard human beings only as nat ....\n",
      "1 : A person is more likely to become visually impaired as that person ages. Among adults in the state o ....\n",
      "1 : Politician: Over the next decade, our city will be replacing all of its street signs with signs that ....\n",
      "1 : You are a medical doctor taking the US Medical Licensing Examination. You need to demonstrate your u ....\n"
     ]
    }
   ],
   "source": [
    "text_counts = Counter(least_sentences)\n",
    "for text, count in text_counts.items():\n",
    "    print(f\"{count} : {text[:100]} ....\")"
   ]
  },
  {
   "cell_type": "code",
   "execution_count": 48,
   "metadata": {},
   "outputs": [
    {
     "name": "stdout",
     "output_type": "stream",
     "text": [
      "493 : open-platypus\n",
      "7 : medqa\n"
     ]
    }
   ],
   "source": [
    "text_counts = Counter(sum(df[\"least_influencing_sources\"].values , []))\n",
    "for text, count in text_counts.items():\n",
    "    print(f\"{count} : {text}\")"
   ]
  },
  {
   "cell_type": "code",
   "execution_count": 49,
   "metadata": {},
   "outputs": [
    {
     "name": "stdout",
     "output_type": "stream",
     "text": [
      "498 : open-platypus\n",
      "2 : medqa\n"
     ]
    }
   ],
   "source": [
    "text_counts = Counter(sum(df[\"top_influencing_sources\"].values , []))\n",
    "for text, count in text_counts.items():\n",
    "    print(f\"{count} : {text}\")"
   ]
  },
  {
   "cell_type": "code",
   "execution_count": null,
   "metadata": {},
   "outputs": [],
   "source": [
    "n_tokens_top = []\n"
   ]
  },
  {
   "cell_type": "code",
   "execution_count": 58,
   "metadata": {},
   "outputs": [
    {
     "data": {
      "text/plain": [
       "top_influencing_sources\n",
       "[open-platypus, open-platypus, open-platypus, open-platypus, open-platypus]    59\n",
       "[medqa, medqa, medqa, medqa, medqa]                                            32\n",
       "[medqa, medqa, medqa, open-platypus, medqa]                                     3\n",
       "[medqa, medqa, open-platypus, medqa, medqa]                                     2\n",
       "[medqa, medqa, open-platypus, medqa, open-platypus]                             1\n",
       "[open-platypus, medqa, medqa, medqa, medqa]                                     1\n",
       "[medqa, open-platypus, medqa, medqa, medqa]                                     1\n",
       "[medqa, open-platypus, medqa, open-platypus, medqa]                             1\n",
       "Name: count, dtype: int64"
      ]
     },
     "execution_count": 58,
     "metadata": {},
     "output_type": "execute_result"
    }
   ],
   "source": [
    "df[\"top_influencing_sources\"].value_counts()"
   ]
  },
  {
   "cell_type": "code",
   "execution_count": 59,
   "metadata": {},
   "outputs": [
    {
     "data": {
      "text/plain": [
       "least_influencing_sources\n",
       "[open-platypus, open-platypus, open-platypus, open-platypus, open-platypus]    11\n",
       "[open-platypus, open-platypus, medqa, open-platypus, open-platypus]             8\n",
       "[medqa, open-platypus, open-platypus, open-platypus, open-platypus]             7\n",
       "[open-platypus, medqa, open-platypus, open-platypus, medqa]                     6\n",
       "[open-platypus, medqa, open-platypus, open-platypus, open-platypus]             6\n",
       "[medqa, open-platypus, medqa, open-platypus, open-platypus]                     6\n",
       "[open-platypus, open-platypus, open-platypus, open-platypus, medqa]             5\n",
       "[medqa, medqa, medqa, open-platypus, medqa]                                     5\n",
       "[open-platypus, medqa, medqa, medqa, medqa]                                     4\n",
       "[medqa, medqa, open-platypus, open-platypus, open-platypus]                     3\n",
       "[open-platypus, open-platypus, medqa, medqa, open-platypus]                     3\n",
       "[open-platypus, open-platypus, open-platypus, medqa, open-platypus]             3\n",
       "[medqa, medqa, medqa, medqa, medqa]                                             3\n",
       "[open-platypus, medqa, medqa, open-platypus, open-platypus]                     3\n",
       "[medqa, medqa, medqa, medqa, open-platypus]                                     3\n",
       "[medqa, medqa, open-platypus, medqa, medqa]                                     3\n",
       "[open-platypus, medqa, medqa, medqa, open-platypus]                             3\n",
       "[medqa, open-platypus, medqa, medqa, open-platypus]                             2\n",
       "[open-platypus, open-platypus, open-platypus, medqa, medqa]                     2\n",
       "[open-platypus, open-platypus, medqa, open-platypus, medqa]                     2\n",
       "[open-platypus, medqa, medqa, open-platypus, medqa]                             2\n",
       "[open-platypus, medqa, open-platypus, medqa, open-platypus]                     2\n",
       "[medqa, open-platypus, medqa, open-platypus, medqa]                             2\n",
       "[medqa, open-platypus, open-platypus, medqa, open-platypus]                     2\n",
       "[medqa, medqa, open-platypus, open-platypus, medqa]                             1\n",
       "[open-platypus, open-platypus, medqa, medqa, medqa]                             1\n",
       "[open-platypus, medqa, open-platypus, medqa, medqa]                             1\n",
       "[medqa, medqa, medqa, open-platypus, open-platypus]                             1\n",
       "Name: count, dtype: int64"
      ]
     },
     "execution_count": 59,
     "metadata": {},
     "output_type": "execute_result"
    }
   ],
   "source": [
    "df[\"least_influencing_sources\"].value_counts()"
   ]
  },
  {
   "cell_type": "code",
   "execution_count": 41,
   "metadata": {},
   "outputs": [
    {
     "name": "stderr",
     "output_type": "stream",
     "text": [
      "Generating train split: 400 examples [00:00, 75719.71 examples/s]\n"
     ]
    }
   ],
   "source": [
    "ds_ = Dataset.from_json(\"../datasets/medical_datasets/open-platypus_medqa-instruction-train_merged.json\")"
   ]
  },
  {
   "cell_type": "code",
   "execution_count": 43,
   "metadata": {},
   "outputs": [
    {
     "data": {
      "text/plain": [
       "Dataset({\n",
       "    features: ['output', 'instruction', 'input'],\n",
       "    num_rows: 400\n",
       "})"
      ]
     },
     "execution_count": 43,
     "metadata": {},
     "output_type": "execute_result"
    }
   ],
   "source": [
    "ds_"
   ]
  },
  {
   "cell_type": "code",
   "execution_count": 51,
   "metadata": {},
   "outputs": [],
   "source": [
    "df.to_csv(\"influencing_examples_no_prompt.csv\")"
   ]
  },
  {
   "cell_type": "code",
   "execution_count": 3,
   "metadata": {},
   "outputs": [
    {
     "data": {
      "text/plain": [
       "\"Question: A 6-year-old African American boy is referred to the hospital by his family physician for jaundice, normocytic anemia, and severe bone pain. He has a history of several episodes of mild bone pain in the past treated with over the counter analgesics. On physical examination, the child is icteric with nonspecific pain in his hands. His hands are swollen, tender, and warm. There is no chest pain, abdominal pain, fever, or hematuria. A complete metabolic panel and complete blood count with manual differential are performed:\\nTotal bilirubin\\n8.4 mg/dL\\nWBC\\n9,800/mm3\\nHemoglobin \\n6.5 g/dL\\nMCV 82.3 fL\\nPlatelet count  465,000/mm3\\nReticulocyte 7%\\nPeripheral blood smear shows multiple clumps of elongated and curved cells and erythrocytes with nuclear remnant. The patient's hemoglobin electrophoresis result is pictured below. What is the most likely cause of his condition?\\n(A) Sickle cell trait (B) Sickle cell disease (C) Hemoglobin F (D) HbC\\nAnswer:\""
      ]
     },
     "execution_count": 3,
     "metadata": {},
     "output_type": "execute_result"
    }
   ],
   "source": [
    "ds[0][\"Validation Sample\"][\"prompt\"]"
   ]
  },
  {
   "cell_type": "code",
   "execution_count": 4,
   "metadata": {},
   "outputs": [
    {
     "data": {
      "text/plain": [
       "{'output': ['Quantum physics is a branch of physics that deals with the behavior of matter and energy at the atomic and subatomic level. It is also known as quantum mechanics, and it describes the fundamental nature of particles that make up our universe, including atoms, electrons, photons, and other subatomic particles.\\n\\nIn classical physics, the behavior of matter and energy can be predicted with great accuracy, but this is not the case in the quantum world. In quantum mechanics, particles do not have a definite position or momentum until they are observed, and their behavior is described by a wave function that gives the probability of finding a particle at a particular location. This means that particles can exist in multiple states at the same time, and their behavior can be influenced by the act of observation.\\n\\nQuantum physics has led to many important technological advancements, including the development of transistors, lasers, and superconductors. It has also led to a deeper understanding of the fundamental nature of our universe and has challenged our understanding of reality.',\n",
       "  'I know that $\\\\cot \\\\theta$ is the same as $\\\\frac{\\\\cos \\\\theta}{\\\\sin \\\\theta}.$ So, to find $\\\\cot 90^\\\\circ$, I just need to find $\\\\cos 90^\\\\circ$ and $\\\\sin 90^\\\\circ$ and divide them. I also know that $\\\\cos 90^\\\\circ = 0$ and $\\\\sin 90^\\\\circ = 1$ from the unit circle. Therefore, $\\\\cot 90^\\\\circ = \\\\frac{\\\\cos 90^\\\\circ}{\\\\sin 90^\\\\circ} = \\\\frac{0}{1} = 0.$ ',\n",
       "  'Let $P$ be the point on the unit circle that is $135^\\\\circ$ counterclockwise from $(1,0)$, and let $D$ be the foot of the altitude from $P$ to the $x$-axis, as shown below.\\n\\n[asy]\\npair A,C,P,O,D;\\ndraw((0,-1.2)--(0,1.2),p=black+1.2bp,Arrows(0.15cm));\\ndraw((-1.2,0)--(1.2,0),p=black+1.2bp,Arrows(0.15cm));\\nA = (1,0);\\nO= (0,0);\\nlabel(\"$x$\",(1.2,0),SE);\\nlabel(\"$y$\",(0,1.2),NE);\\n\\nP = rotate(135)*A;\\nD = foot(P,A,-A);\\ndraw(O--P--D);\\ndraw(rightanglemark(O,D,P,2));\\ndraw(Circle(O,1));\\nlabel(\"$O$\",O,SE);\\nlabel(\"$P$\",P,NW);\\n//label(\"$A$\",A,SE);\\nlabel(\"$D$\",D,S);\\n[/asy]\\n\\nTriangle $POD$ is a 45-45-90 triangle, so $DO = DP = \\\\frac{\\\\sqrt{2}}{2}$.  Therefore, the coordinates of $P$ are $\\\\left(-\\\\frac{\\\\sqrt{2}}{2}, \\\\frac{\\\\sqrt{2}}{2}\\\\right)$, so $\\\\cos 135^\\\\circ = -\\\\frac{\\\\sqrt{2}}{2}$.',\n",
       "  \"For the first position, I have four choices, since any of the books can go there. For the second position, I have three choices, since I can't repeat the book I already put in the first position. For the third position, I have two choices, since I can't repeat the books I already put in the first and second positions. For the fourth position, I have one choice, since there is only one book left. So the total number of ways to arrange four books is 4 x 3 x 2 x 1, which is also called 4 factorial and written as 4!. I can use a calculator or do the multiplication by hand to get 4! = 4 x 3 x 2 x 1 = 24. \",\n",
       "  'I know that 252 is a multiple of 4, so it must have some even divisors. To find out how many, I could try to factor 252 into prime factors and see how they relate to the evenness of the divisors. I can start by dividing 252 by 2 repeatedly until I get an odd number. I get 252 = 2^2 * 63. Then I can divide 63 by 3 repeatedly until I get a prime number. I get 63 = 3^2 * 7. So the prime factorization of 252 is 2^2 * 3^2 * 7. Now, I can use a formula for the number of divisors of a positive integer based on its prime factorization. The formula is to add one to each exponent and multiply them together. In this case, n = 252 and p = 2, q = 3, and r = 7, and a = 2, b = 2, and c = 1. So the number of divisors of 252 is (2+1)(2+1)(1+1) = 18. To count only the even ones, I need to fix the exponent of 2 to be at least 1, since any divisor with 2^0 = 1 as a factor would be odd. So I can subtract the number of odd divisors from 18 to get the number of even divisors. The odd divisors are those that have 2^0 as a factor, so they are the same as the divisors of 3^2 * 7. The number of divisors of 3^2 * 7 is (2+1)(1+1) = 6. So the number of odd divisors of 252 is 6. Therefore, the number of even divisors of 252 is 18 - 6 = 12. '],\n",
       " 'instruction': ['What is quantum physics?',\n",
       "  'Find $\\\\cot 90^\\\\circ.$',\n",
       "  'Compute $\\\\cos 135^\\\\circ$.',\n",
       "  'In how many ways can I arrange four different books on a shelf?',\n",
       "  'How many of the positive divisors of 252 are even?'],\n",
       " 'input': ['', '', '', '', '']}"
      ]
     },
     "execution_count": 4,
     "metadata": {},
     "output_type": "execute_result"
    }
   ],
   "source": [
    "ds[0][\"Most Influential Training Samples\"]"
   ]
  },
  {
   "cell_type": "code",
   "execution_count": null,
   "metadata": {},
   "outputs": [],
   "source": []
  }
 ],
 "metadata": {
  "kernelspec": {
   "display_name": "mvenv",
   "language": "python",
   "name": "python3"
  },
  "language_info": {
   "codemirror_mode": {
    "name": "ipython",
    "version": 3
   },
   "file_extension": ".py",
   "mimetype": "text/x-python",
   "name": "python",
   "nbconvert_exporter": "python",
   "pygments_lexer": "ipython3",
   "version": "3.11.6 (main, Oct  2 2023, 20:46:17) [Clang 14.0.0 (clang-1400.0.29.202)]"
  },
  "orig_nbformat": 4,
  "vscode": {
   "interpreter": {
    "hash": "e862f3ac8319dd3b2592f1ab73da6eb8c049bb2949a2081c55d9c34cd04f6fab"
   }
  }
 },
 "nbformat": 4,
 "nbformat_minor": 2
}
